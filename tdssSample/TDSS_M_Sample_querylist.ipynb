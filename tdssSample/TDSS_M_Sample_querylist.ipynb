{
 "cells": [
  {
   "cell_type": "code",
   "execution_count": 15,
   "metadata": {},
   "outputs": [],
   "source": [
    "import numpy as np \n",
    "import matplotlib.pyplot as plt\n",
    "import pandas as pd\n",
    "from astropy.io import fits\n",
    "%matplotlib inline "
   ]
  },
  {
   "cell_type": "code",
   "execution_count": 2,
   "metadata": {},
   "outputs": [],
   "source": [
    "datafile  = fits.open('Mtdss_v5_10_0.fits')"
   ]
  },
  {
   "cell_type": "code",
   "execution_count": 3,
   "metadata": {},
   "outputs": [
    {
     "name": "stdout",
     "output_type": "stream",
     "text": [
      "Filename: Mtdss_v5_10_0.fits\n",
      "No.    Name      Ver    Type      Cards   Dimensions   Format\n",
      "  0  PRIMARY       1 PrimaryHDU       4   ()      \n",
      "  1                1 BinTableHDU     67   11800R x 25C   [K, K, K, K, K, K, K, K, K, J, J, J, J, 16A, D, D, 6A, 21A, I, 3A, B, I, I, 5E, 5E]   \n"
     ]
    }
   ],
   "source": [
    "datafile.info()"
   ]
  },
  {
   "cell_type": "code",
   "execution_count": 10,
   "metadata": {},
   "outputs": [
    {
     "data": {
      "text/plain": [
       "ColDefs(\n",
       "    name = 'BOSS_TARGET1'; format = 'K'\n",
       "    name = 'BOSS_TARGET2'; format = 'K'\n",
       "    name = 'ANCILLARY_TARGET1'; format = 'K'\n",
       "    name = 'ANCILLARY_TARGET2'; format = 'K'\n",
       "    name = 'EBOSS_TARGET0'; format = 'K'\n",
       "    name = 'EBOSS_TARGET1'; format = 'K'\n",
       "    name = 'EBOSS_TARGET2'; format = 'K'\n",
       "    name = 'EBOSS_TARGET_ID'; format = 'K'\n",
       "    name = 'THING_ID_TARGETING'; format = 'K'\n",
       "    name = 'PLATE'; format = 'J'\n",
       "    name = 'TILE'; format = 'J'\n",
       "    name = 'MJD'; format = 'J'\n",
       "    name = 'FIBERID'; format = 'J'\n",
       "    name = 'OBJTYPE'; format = '16A'\n",
       "    name = 'PLUG_RA'; format = 'D'\n",
       "    name = 'PLUG_DEC'; format = 'D'\n",
       "    name = 'CLASS'; format = '6A'\n",
       "    name = 'SUBCLASS'; format = '21A'\n",
       "    name = 'RUN'; format = 'I'\n",
       "    name = 'RERUN'; format = '3A'\n",
       "    name = 'CAMCOL'; format = 'B'\n",
       "    name = 'FIELD'; format = 'I'\n",
       "    name = 'ID'; format = 'I'\n",
       "    name = 'PSFMAG'; format = '5E'\n",
       "    name = 'PSFMAGERR'; format = '5E'\n",
       ")"
      ]
     },
     "execution_count": 10,
     "metadata": {},
     "output_type": "execute_result"
    }
   ],
   "source": [
    "sechdr = datafile[1]\n",
    "sechdr.columns"
   ]
  },
  {
   "cell_type": "code",
   "execution_count": 21,
   "metadata": {},
   "outputs": [],
   "source": [
    "objtype = sechdr.data['OBJTYPE']\n",
    "ra      = sechdr.data['PLUG_RA']\n",
    "dec     = sechdr.data['PLUG_DEC']\n",
    "\n",
    "plate   = sechdr.data['PLATE'] \n",
    "fiber   = sechdr.data['FIBERID']\n",
    "mjd     = sechdr.data['MJD'] \n",
    "\n",
    "querydf = pd.DataFrame()\n",
    "querydf['plate'] = plate\n",
    "querydf['mjd']   = mjd\n",
    "querydf['fiber'] = fiber\n",
    "querydf['fiber'] = querydf['fiber'].apply('{:0>4}'.format)"
   ]
  },
  {
   "cell_type": "code",
   "execution_count": 23,
   "metadata": {},
   "outputs": [
    {
     "data": {
      "text/html": [
       "<div>\n",
       "<style scoped>\n",
       "    .dataframe tbody tr th:only-of-type {\n",
       "        vertical-align: middle;\n",
       "    }\n",
       "\n",
       "    .dataframe tbody tr th {\n",
       "        vertical-align: top;\n",
       "    }\n",
       "\n",
       "    .dataframe thead th {\n",
       "        text-align: right;\n",
       "    }\n",
       "</style>\n",
       "<table border=\"1\" class=\"dataframe\">\n",
       "  <thead>\n",
       "    <tr style=\"text-align: right;\">\n",
       "      <th></th>\n",
       "      <th>plate</th>\n",
       "      <th>mjd</th>\n",
       "      <th>fiber</th>\n",
       "    </tr>\n",
       "  </thead>\n",
       "  <tbody>\n",
       "    <tr>\n",
       "      <th>0</th>\n",
       "      <td>10000</td>\n",
       "      <td>57346</td>\n",
       "      <td>0014</td>\n",
       "    </tr>\n",
       "    <tr>\n",
       "      <th>1</th>\n",
       "      <td>10000</td>\n",
       "      <td>57346</td>\n",
       "      <td>0155</td>\n",
       "    </tr>\n",
       "    <tr>\n",
       "      <th>2</th>\n",
       "      <td>10000</td>\n",
       "      <td>57346</td>\n",
       "      <td>0156</td>\n",
       "    </tr>\n",
       "    <tr>\n",
       "      <th>3</th>\n",
       "      <td>10000</td>\n",
       "      <td>57346</td>\n",
       "      <td>0161</td>\n",
       "    </tr>\n",
       "    <tr>\n",
       "      <th>4</th>\n",
       "      <td>10000</td>\n",
       "      <td>57346</td>\n",
       "      <td>0186</td>\n",
       "    </tr>\n",
       "  </tbody>\n",
       "</table>\n",
       "</div>"
      ],
      "text/plain": [
       "   plate    mjd fiber\n",
       "0  10000  57346  0014\n",
       "1  10000  57346  0155\n",
       "2  10000  57346  0156\n",
       "3  10000  57346  0161\n",
       "4  10000  57346  0186"
      ]
     },
     "execution_count": 23,
     "metadata": {},
     "output_type": "execute_result"
    }
   ],
   "source": [
    "querydf.head()"
   ]
  },
  {
   "cell_type": "code",
   "execution_count": 24,
   "metadata": {},
   "outputs": [],
   "source": [
    "querydf.to_csv('DL_TDSS_M_samplet.txt', sep =' ', index=False)"
   ]
  },
  {
   "cell_type": "code",
   "execution_count": null,
   "metadata": {},
   "outputs": [],
   "source": []
  }
 ],
 "metadata": {
  "anaconda-cloud": {},
  "kernelspec": {
   "display_name": "Python 3",
   "language": "python",
   "name": "python3"
  },
  "language_info": {
   "codemirror_mode": {
    "name": "ipython",
    "version": 3
   },
   "file_extension": ".py",
   "mimetype": "text/x-python",
   "name": "python",
   "nbconvert_exporter": "python",
   "pygments_lexer": "ipython3",
   "version": "3.6.5"
  }
 },
 "nbformat": 4,
 "nbformat_minor": 1
}
